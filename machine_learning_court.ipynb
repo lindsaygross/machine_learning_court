{
  "cells": [
    {
      "cell_type": "markdown",
      "id": "dfa6cc37",
      "metadata": {
        "id": "dfa6cc37"
      },
      "source": [
        "# **AIPI 590 - XAI | Assignment #2**\n",
        "### Interpretable ML Assignment\n",
        "### Lindsay Gross\n",
        "\n",
        "[![Open In Collab](https://colab.research.google.com/assets/colab-badge.svg)](https://colab.research.google.com/github/lindsaygross/machine_learning_court/blob/main/machine_learning_court.ipynb)\n",
        "\n",
        "\n",
        "# 👩‍⚖️ ⚖️ Machine Learning Court\n",
        "\n",
        "This notebook provides base model training code for our three case scenarios:\n",
        "1. **Loan Approval**\n",
        "2. **Breast Cancer Misclassification**\n",
        "3. **Recidivism Prediction**\n",
        "\n",
        "> ⚠️ This notebook does **not** include XAI techniques (SHAP, LIME, Anchors). You are expected to implement those yourself based on the model and prediction tasks below.\n",
        "\n",
        "\n",
        "\n"
      ]
    },
    {
      "cell_type": "markdown",
      "id": "MN2ts4xtQ6ts",
      "metadata": {
        "id": "MN2ts4xtQ6ts"
      },
      "source": [
        "## ⚖️ Case 1: Loan Denial Dispute – UCI Adult Income Dataset\n",
        "#### 🔍 Scenario\n",
        "\n",
        "Jane Dow, a 37-year-old professional woman with a Bachelor's degree and full-time executive role, applied for a premium credit product. The bank’s model—trained to predict income level as a proxy for eligibility—classified her as earning ≤$50K, resulting in denial. She disputes the fairness of the decision.\n",
        "\n",
        "#### 🟥 Prosecution\n",
        "Evaluate whether the model’s decision may have been influenced by inappropriate or unfair reasoning. Explore whether the explanation aligns with what should be expected in a fair credit decision.\n",
        "\n",
        "#### 🟦 Defense\n",
        "Justify the decision based on the model’s learned patterns. Consider how well the explanation supports the classification and whether similar profiles are treated consistently."
      ]
    },
    {
      "cell_type": "code",
      "execution_count": 10,
      "id": "292f0434",
      "metadata": {
        "colab": {
          "base_uri": "https://localhost:8080/"
        },
        "id": "292f0434",
        "outputId": "c11b24eb-a3a8-45b4-f397-951ce8930f52"
      },
      "outputs": [
        {
          "output_type": "stream",
          "name": "stdout",
          "text": [
            "running in google colab...\n",
            "Drive already mounted at /content/drive; to attempt to forcibly remount, call drive.mount(\"/content/drive\", force_remount=True).\n",
            "/content/drive/MyDrive/Duke ME AIPI/Explainable AI\n",
            "/content/drive/MyDrive/Duke ME AIPI/Explainable AI/Interpretable-ML\n",
            "From https://github.com/lindsaygross/Interpretable-ML\n",
            " * branch            main       -> FETCH_HEAD\n",
            "Already up to date.\n",
            "/content/drive/MyDrive/Duke ME AIPI/Explainable AI\n",
            "/content/drive/MyDrive/Duke ME AIPI/Explainable AI/Interpretable-ML\n",
            "Collecting pandas==2.1.4 (from -r requirements.txt (line 1))\n",
            "  Using cached pandas-2.1.4-cp312-cp312-manylinux_2_17_x86_64.manylinux2014_x86_64.whl.metadata (18 kB)\n",
            "Collecting numpy==1.23.5 (from -r requirements.txt (line 2))\n",
            "  Using cached numpy-1.23.5.tar.gz (10.7 MB)\n",
            "  Installing build dependencies ... \u001b[?25l\u001b[?25hdone\n",
            "  \u001b[1;31merror\u001b[0m: \u001b[1msubprocess-exited-with-error\u001b[0m\n",
            "  \n",
            "  \u001b[31m×\u001b[0m \u001b[32mGetting requirements to build wheel\u001b[0m did not run successfully.\n",
            "  \u001b[31m│\u001b[0m exit code: \u001b[1;36m1\u001b[0m\n",
            "  \u001b[31m╰─>\u001b[0m See above for output.\n",
            "  \n",
            "  \u001b[1;35mnote\u001b[0m: This error originates from a subprocess, and is likely not a problem with pip.\n",
            "  Getting requirements to build wheel ... \u001b[?25l\u001b[?25herror\n",
            "\u001b[1;31merror\u001b[0m: \u001b[1msubprocess-exited-with-error\u001b[0m\n",
            "\n",
            "\u001b[31m×\u001b[0m \u001b[32mGetting requirements to build wheel\u001b[0m did not run successfully.\n",
            "\u001b[31m│\u001b[0m exit code: \u001b[1;36m1\u001b[0m\n",
            "\u001b[31m╰─>\u001b[0m See above for output.\n",
            "\n",
            "\u001b[1;35mnote\u001b[0m: This error originates from a subprocess, and is likely not a problem with pip.\n"
          ]
        }
      ],
      "source": [
        "import os\n",
        "\n",
        "# check if running in google colab\n",
        "try:\n",
        "    import google.colab\n",
        "    IN_COLAB = True\n",
        "    from google.colab import drive\n",
        "except ImportError:\n",
        "    IN_COLAB = False\n",
        "\n",
        "repo_name = \"Interpretable-ML\"\n",
        "git_path = \"https://github.com/lindsaygross/machine_learning_court.git\"\n",
        "\n",
        "if IN_COLAB:\n",
        "    print(\"running in google colab...\")\n",
        "\n",
        "    # mount google drive\n",
        "    drive.mount('/content/drive')\n",
        "\n",
        "    # navigate to drive location\n",
        "    drive_path = '/content/drive/MyDrive/Duke ME AIPI/Explainable AI'\n",
        "    os.makedirs(drive_path, exist_ok=True)\n",
        "    %cd \"{drive_path}\"\n",
        "\n",
        "    # clone or update repo\n",
        "    if not os.path.exists(repo_name):\n",
        "        !git clone {git_path}\n",
        "    else:\n",
        "        %cd {repo_name}\n",
        "        !git pull origin main\n",
        "        %cd ..\n",
        "\n",
        "    %cd {repo_name}\n",
        "\n",
        "    # install dependencies\n",
        "    if os.path.exists(\"requirements.txt\"):\n",
        "        !pip install -r requirements.txt\n",
        "    else:\n",
        "        !pip install pandas numpy matplotlib seaborn scikit-learn scipy lime shap"
      ]
    },
    {
      "cell_type": "code",
      "execution_count": 11,
      "id": "d3fbadd3",
      "metadata": {
        "colab": {
          "base_uri": "https://localhost:8080/"
        },
        "id": "d3fbadd3",
        "outputId": "e8f6c33b-6395-4147-9acb-7de6012ae4dc"
      },
      "outputs": [
        {
          "output_type": "stream",
          "name": "stdout",
          "text": [
            "Categorical columns: ['workclass', 'education', 'marital-status', 'occupation', 'relationship', 'race', 'sex', 'native-country']\n",
            "Numeric columns: ['age', 'education-num', 'capital-gain', 'capital-loss', 'hours-per-week']\n",
            "              precision    recall  f1-score   support\n",
            "\n",
            "           0       0.89      0.90      0.89      6803\n",
            "           1       0.68      0.65      0.66      2242\n",
            "\n",
            "    accuracy                           0.84      9045\n",
            "   macro avg       0.78      0.77      0.78      9045\n",
            "weighted avg       0.83      0.84      0.84      9045\n",
            "\n"
          ]
        }
      ],
      "source": [
        "\n",
        "# Ensure compatible versions of numpy, pandas, scikit-learn, and scipy\n",
        "# 📦 Case 1: Loan Approval Prediction (Adult Income Dataset)\n",
        "\n",
        "import pandas as pd\n",
        "import numpy as np\n",
        "import matplotlib.pyplot as plt\n",
        "import seaborn as sns\n",
        "from sklearn.model_selection import train_test_split\n",
        "\n",
        "from sklearn.preprocessing import LabelEncoder\n",
        "from sklearn.ensemble import RandomForestClassifier\n",
        "from sklearn.metrics import classification_report\n",
        "from sklearn.compose import ColumnTransformer\n",
        "from sklearn.pipeline import Pipeline\n",
        "from sklearn.preprocessing import OneHotEncoder\n",
        "\n",
        "\n",
        "\n",
        "# Load Data\n",
        "from sklearn.datasets import fetch_openml\n",
        "adult = fetch_openml(name='adult', version=2, as_frame=True)\n",
        "df = adult.frame\n",
        "\n",
        "\n",
        "# Clean and preprocess\n",
        "df = df.dropna()\n",
        "df = df.copy()\n",
        "\n",
        "# Ensure all original categorical columns are treated as string\n",
        "categorical_features = [\n",
        "    'workclass', 'education', 'marital-status', 'occupation',\n",
        "    'relationship', 'race', 'sex', 'native-country'\n",
        "]\n",
        "\n",
        "for col in categorical_features:\n",
        "    df[col] = df[col].astype(str)\n",
        "\n",
        "\n",
        "# deleted encoders = {} and label encoding above to use OneHotEncoder in preprocessing pipeline.\n",
        "# LIME did not work properly with label encoded data\n",
        "\n",
        "X = df.drop([\"class\", \"fnlwgt\"], axis=1)\n",
        "y = df[\"class\"].apply(lambda x: 1 if x == '>50K' else 0)\n",
        "\n",
        "\n",
        "X_train, X_test, y_train, y_test = train_test_split(\n",
        "    X, y, test_size=0.2, stratify=y, random_state=42\n",
        ")\n",
        "\n",
        "# Identify categorical and numerical columns to ensure correct preprocessing\n",
        "\n",
        "cat_cols = X.select_dtypes(include='object').columns.tolist() # get categorical columns\n",
        "num_cols = X.select_dtypes(exclude='object').columns.tolist() # get numerical columns\n",
        "\n",
        "print(\"Categorical columns:\", cat_cols)\n",
        "print(\"Numeric columns:\", num_cols)\n",
        "\n",
        "#  pre preprocessing with sparse_output=False and dtype=float to ensure compatibility with LIME\n",
        "pre = ColumnTransformer([\n",
        "    (\"cat\", OneHotEncoder(handle_unknown=\"ignore\", sparse_output=False, dtype=float), cat_cols),\n",
        "    (\"num\", \"passthrough\", num_cols)\n",
        "])\n",
        "\n",
        "# Used ChatGPT5 at 12:30pm on 9/21/25 to help with above code block, specifically to ensure OneHotEncoder works with LIME\n",
        "\n",
        "model_adult = Pipeline([\n",
        "    (\"pre\", pre),\n",
        "    (\"clf\", RandomForestClassifier(\n",
        "        n_estimators=300,\n",
        "        random_state=42,\n",
        "        class_weight=\"balanced_subsample\" # Used ChatGPT5 at 12:45pm on 9/21/25 to suggest balanced_subsample for class_weight\n",
        "    ))\n",
        "])\n",
        "\n",
        "\n",
        "model_adult.fit(X_train, y_train)\n",
        "print(classification_report(y_test, model_adult.predict(X_test)))\n",
        "\n"
      ]
    },
    {
      "cell_type": "markdown",
      "id": "32c95491",
      "metadata": {
        "id": "32c95491"
      },
      "source": [
        "#### **Preprocessing for analysis**"
      ]
    },
    {
      "cell_type": "code",
      "execution_count": 12,
      "id": "ca49463e",
      "metadata": {
        "id": "ca49463e"
      },
      "outputs": [],
      "source": [
        "# Preprocessing data for SHAP\n",
        "\n",
        "# Encode the training set using your pipeline's preprocessing step\n",
        "import shap\n",
        "X_train_enc = model_adult.named_steps[\"pre\"].transform(X_train) # returns numpy array. # Used ChatGPT 5 at 1:00pm on 9/21/25 to understand how to prepare data for SHAP\n",
        "\n",
        "# Get the feature names\n",
        "feature_names = model_adult.named_steps[\"pre\"].get_feature_names_out() # returns array of feature names after one-hot encoding so that they can be used in SHAP plots\n",
        "\n",
        "# Build SHAP explainer\n",
        "rf = model_adult.named_steps[\"clf\"]\n",
        "explainer = shap.TreeExplainer(rf)\n",
        "\n",
        "\n"
      ]
    },
    {
      "cell_type": "markdown",
      "id": "8d758997",
      "metadata": {
        "id": "8d758997"
      },
      "source": [
        "####  **Focus Instance: Loan Rejection Case (Jane Dow)**\n"
      ]
    },
    {
      "cell_type": "code",
      "execution_count": 13,
      "id": "9a5c7c2c",
      "metadata": {
        "colab": {
          "base_uri": "https://localhost:8080/"
        },
        "id": "9a5c7c2c",
        "outputId": "a8fb7052-f41b-4aca-d57e-3490bedf525f"
      },
      "outputs": [
        {
          "output_type": "stream",
          "name": "stdout",
          "text": [
            "Probabilities (<=50K, >50K): [0.91666667 0.08333333]\n",
            "Prediction for Jane Dow (Loan Eligibility): Denied\n"
          ]
        }
      ],
      "source": [
        "#  Focus Instance: Loan Rejection Case (Jane Dow)\n",
        "# Jane Dow’s features (strings for categories, numbers for numerics)\n",
        "jane = {\n",
        "    \"age\": 37,\n",
        "    \"workclass\": \"Private\",\n",
        "    \"education\": \"Bachelors\",\n",
        "    \"education-num\": 13,\n",
        "    \"marital-status\": \"Never-married\",\n",
        "    \"occupation\": \"Exec-managerial\",\n",
        "    \"relationship\": \"Not-in-family\",\n",
        "    \"race\": \"White\",\n",
        "    \"sex\": \"Female\",\n",
        "    \"capital-gain\": 0,\n",
        "    \"capital-loss\": 0,\n",
        "    \"hours-per-week\": 45,   # Changed from 40 to 45 based on SHAP insights # Used ChatGPT5 at 1:10pm on 9/21/25 to suggest 45 hours/week\n",
        "    \"native-country\": \"United-States\"\n",
        "}\n",
        "\n",
        "# Turn into DataFrame\n",
        "jane_df = pd.DataFrame([jane])[X.columns]\n",
        "\n",
        "# Predict with the pipeline (it handles OneHot encoding)\n",
        "pred = model_adult.predict(jane_df)\n",
        "proba = model_adult.predict_proba(jane_df)[0]\n",
        "\n",
        "print(\"Probabilities (<=50K, >50K):\", proba)\n",
        "print(\"Prediction for Jane Dow (Loan Eligibility):\", \"Approved\" if pred[0] == 1 else \"Denied\")\n"
      ]
    },
    {
      "cell_type": "markdown",
      "id": "2e89b60e",
      "metadata": {
        "id": "2e89b60e"
      },
      "source": [
        "#### **Reasoning for code change above**\n",
        "Jane Dow’s profile was created using manual label encoding with encoders[col].transform(...). This conflicted with the model pipeline (model_adult) already including a ColumnTransformer with OneHotEncoder for categorical variables.\n",
        "\n",
        "If we passed manually encoded numeric values into the pipeline, the OneHotEncoder would misinterpret them because it expects raw string categories. This code caused Jane’s profile to be incorrectly and led to unrealistic predictions.\n",
        "\n",
        "We updated Jane’s instance to use the same  categorical values that the training data contained so that the pipeline’s preprocessing step handled the encoding properly. Now, Jane’s prediction matches the expected case description (Denied), correcting the model behavior for SHAP analysis."
      ]
    },
    {
      "cell_type": "markdown",
      "id": "6140adf6",
      "metadata": {
        "id": "6140adf6"
      },
      "source": [
        "## **SHAP Explanations: Global & Local Analysis**\n",
        "\n",
        "To understand whether the model’s decision against **Jane Dow** was fair, we apply **SHAP (SHapley Additive Explanations)**. SHAP helps show   which features the model relies on both globally (for all applicants) and locally (for Jane specifically).\n"
      ]
    },
    {
      "cell_type": "markdown",
      "id": "af02d1c6",
      "metadata": {
        "id": "af02d1c6"
      },
      "source": [
        "## **Global SHAP Model Analysis**\n"
      ]
    },
    {
      "cell_type": "code",
      "execution_count": 14,
      "id": "400ab7a4",
      "metadata": {
        "id": "400ab7a4",
        "outputId": "97a44ab1-dbd1-4688-8801-2f9bd13ad569",
        "colab": {
          "base_uri": "https://localhost:8080/"
        }
      },
      "outputs": [
        {
          "output_type": "stream",
          "name": "stdout",
          "text": [
            "Top 15 Global SHAP Feature Importances:\n",
            "cat__marital-status_Married-civ-spouse: 0.095\n",
            "num__age: 0.093\n",
            "num__education-num: 0.065\n",
            "cat__relationship_Husband: 0.058\n",
            "num__hours-per-week: 0.054\n",
            "cat__marital-status_Never-married: 0.046\n",
            "num__capital-gain: 0.045\n",
            "cat__occupation_Exec-managerial: 0.027\n",
            "cat__sex_Male: 0.023\n",
            "cat__relationship_Own-child: 0.021\n",
            "cat__sex_Female: 0.020\n",
            "cat__occupation_Prof-specialty: 0.020\n",
            "cat__occupation_Other-service: 0.017\n",
            "cat__relationship_Not-in-family: 0.015\n",
            "cat__education_HS-grad: 0.015\n"
          ]
        }
      ],
      "source": [
        "\n",
        "# Global SHAP Analysis with ranked feature importance\n",
        "\n",
        "import shap\n",
        "import numpy as np\n",
        "\n",
        "# Encode training set\n",
        "X_train_enc = model_adult.named_steps[\"pre\"].transform(X_train)\n",
        "feature_names = model_adult.named_steps[\"pre\"].get_feature_names_out()\n",
        "# # Used ChatGPT 5 at 1:00pm on 9/21/25 to ensure the data is prepared correctly for SHAP for above code block\n",
        "\n",
        "# Subsample 200 rows for efficiency\n",
        "idx = np.random.choice(X_train_enc.shape[0], 200, replace=False)\n",
        "X_train_sample = X_train_enc[idx]\n",
        "\n",
        "# Build SHAP explainer on RandomForest\n",
        "rf = model_adult.named_steps[\"clf\"]\n",
        "explainer = shap.TreeExplainer(rf)\n",
        "\n",
        "# Compute SHAP values\n",
        "shap_values_all = explainer.shap_values(X_train_sample, approximate=True)\n",
        "shap_values = shap_values_all[1] if isinstance(shap_values_all, list) else shap_values_all # Used ChatGPT 5 at 2:00pm on 9/21/25 to understand how to handle shap_values output for binary classification\n",
        "\n",
        "# Aggregate by mean absolute SHAP values\n",
        "mean_abs_shap = np.abs(shap_values).mean(axis=0) # Used ChatGPT 5 at 6:20pm on 9/21/25 to help with mean absolute SHAP calculation\n",
        "\n",
        "# If mean_abs_shap is 2D (n_features, 2), select class 1. # Used ChatGPT 5 at 6:18pm on 9/21/25 to understand 2d shap_values output for binary classification\n",
        "if mean_abs_shap.ndim == 2 and mean_abs_shap.shape[1] == 2:\n",
        "    mean_abs_shap = mean_abs_shap[:, 1]\n",
        "\n",
        "# Sort features by importance\n",
        "sorted_idx = np.argsort(mean_abs_shap)[::-1]\n",
        "\n",
        "print(\"Top 15 Global SHAP Feature Importances:\")\n",
        "for i in sorted_idx[:15]:\n",
        "    print(f\"{feature_names[i]}: {mean_abs_shap[i]:.3f}\")\n",
        "\n",
        "\n"
      ]
    },
    {
      "cell_type": "markdown",
      "id": "1659f31a",
      "metadata": {
        "id": "1659f31a"
      },
      "source": [
        "# **Global SHAP Interpretation**\n",
        "\n",
        "The SHAP results show that the model’s predictions rely on features like age, education level, hours worked per week, and capital gains. These seem reasonable because they reflect financial capacity.\n",
        "\n",
        "It is important to note that SHAP also highlights  **marital status, relationship type, and gender** as strong indicators. These are social or demographic attributes, not direct measures of financial ability.\n",
        "\n",
        "This suggests that the model may be unfair, suggesting that Jane Dow was not denied because of her education or executive role, but because features related to her gender and marital status which is not appropriate for credit decisions."
      ]
    },
    {
      "cell_type": "markdown",
      "id": "2338dc0b",
      "metadata": {
        "id": "2338dc0b"
      },
      "source": [
        "## **Local SHAP Model Analysis**\n"
      ]
    },
    {
      "cell_type": "code",
      "execution_count": 15,
      "id": "a09feef7",
      "metadata": {
        "id": "a09feef7",
        "outputId": "29af38fc-0c0e-4605-adbb-c040a0e73c37",
        "colab": {
          "base_uri": "https://localhost:8080/",
          "height": 617
        }
      },
      "outputs": [
        {
          "output_type": "display_data",
          "data": {
            "text/plain": [
              "<Figure size 800x650 with 3 Axes>"
            ],
            "image/png": "[encoded data removed]"
          },
          "metadata": {}
        }
      ],
      "source": [
        "# Local SHAP Model Ana (Jane Dow)\n",
        "\n",
        "jane_df = pd.DataFrame([jane])[X.columns]\n",
        "\n",
        "# Transform Jane’s row into encoded version\n",
        "jane_enc = model_adult.named_steps[\"pre\"].transform(jane_df)\n",
        "\n",
        "# Compute SHAP values for Jane only\n",
        "jane_shap_all = explainer.shap_values(jane_enc)\n",
        "\n",
        "# Pick class 1 (>50K) if binary classification\n",
        "if isinstance(jane_shap_all, list) and len(jane_shap_all) == 2:\n",
        "    jane_shap = jane_shap_all[1][0, :]\n",
        "    base_value = explainer.expected_value[1]\n",
        "    # Used ChatGPT 5 at 2:05pm on 9/21/25 to understand how to handle shap_values output for binary classification for the above code block\n",
        "else:\n",
        "    # jane_shap_all shape: (1, n_features, 2) or (1, n_features)\n",
        "    # If shape is (1, n_features, 2), select class 1\n",
        "    if jane_shap_all.ndim == 3 and jane_shap_all.shape[-1] == 2:\n",
        "        jane_shap = jane_shap_all[0, :, 1]\n",
        "        base_value = explainer.expected_value[1]\n",
        "    else:\n",
        "        jane_shap = jane_shap_all[0, :]\n",
        "        base_value = explainer.expected_value\n",
        "\n",
        "# Show waterfall plot for Jane Dow\n",
        "# Used ChatGPT 5 at 2:10pm on 9/21/25 to understand how to create waterfall plot for Jane Dow but not for specific code documentation\n",
        "shap.waterfall_plot(shap.Explanation(\n",
        "    values=jane_shap,\n",
        "    base_values=base_value,\n",
        "    data=jane_enc[0],\n",
        "    feature_names=feature_names\n",
        "))\n"
      ]
    },
    {
      "cell_type": "markdown",
      "id": "0c272d82",
      "metadata": {
        "id": "0c272d82"
      },
      "source": [
        "# **Local SHAP Interpretation (Specific to Jane Dow)**\n",
        "\n",
        "The SHAP waterfall plot explains why the model predicted Jane’s income as **≤ \\$50K** (loan denied).\n",
        "\n",
        "- **Strong negative factors (unfair reasoning):**\n",
        "\n",
        "  - **Never-married** status (biggest negative factor).\n",
        "  - **Not-in-family** relationship type.\n",
        "  - **Female gender** and **age (37)** also contributed slightly negatively.\n",
        "\n",
        "- **Positive factors (fair reasoning):**\n",
        "\n",
        "  - **Bachelor’s degree** (+0.06).\n",
        "  - **Executive occupation** (+0.06).\n",
        "  - These helped, but were outweighed by demographic factors.\n",
        "\n",
        "- **Key issue:**\n",
        "  The model is giving **large weight to marital status, gender, and family relationship** which are features that should **not** decide creditworthiness.\n",
        "  Education, occupation, and work hours (fairer indicators for Jane's repayment ability) had less influence.\n",
        "\n",
        "The denial of Jane’s loan shows to be based more on **demographic and personal traits** than on her **financial qualifications**, suggesting the model is influenced by **bias in the dataset** and is not aligned with fair credit decision standards."
      ]
    },
    {
      "cell_type": "markdown",
      "id": "2d288ee0",
      "metadata": {
        "id": "2d288ee0"
      },
      "source": [
        "# **LIME: Global & Local Analysis**"
      ]
    },
    {
      "cell_type": "markdown",
      "id": "a02ef59b",
      "metadata": {
        "id": "a02ef59b"
      },
      "source": [
        "## **Global LIME Analysis**"
      ]
    },
    {
      "cell_type": "code",
      "execution_count": 16,
      "id": "2693c6b0",
      "metadata": {
        "id": "2693c6b0",
        "outputId": "df839858-2b4e-4bf8-91be-715a06e195eb",
        "colab": {
          "base_uri": "https://localhost:8080/",
          "height": 385
        }
      },
      "outputs": [
        {
          "output_type": "error",
          "ename": "ModuleNotFoundError",
          "evalue": "No module named 'lime'",
          "traceback": [
            "\u001b[0;31m---------------------------------------------------------------------------\u001b[0m",
            "\u001b[0;31mModuleNotFoundError\u001b[0m                       Traceback (most recent call last)",
            "\u001b[0;32m/tmp/ipython-input-1098934859.py\u001b[0m in \u001b[0;36m<cell line: 0>\u001b[0;34m()\u001b[0m\n\u001b[1;32m      2\u001b[0m \u001b[0;31m# Used global analysis to understand overall model behavior, not just Jane Dow's instance\u001b[0m\u001b[0;34m\u001b[0m\u001b[0;34m\u001b[0m\u001b[0m\n\u001b[1;32m      3\u001b[0m \u001b[0;34m\u001b[0m\u001b[0m\n\u001b[0;32m----> 4\u001b[0;31m \u001b[0;32mimport\u001b[0m \u001b[0mlime\u001b[0m\u001b[0;34m\u001b[0m\u001b[0;34m\u001b[0m\u001b[0m\n\u001b[0m\u001b[1;32m      5\u001b[0m \u001b[0;32mimport\u001b[0m \u001b[0mlime\u001b[0m\u001b[0;34m.\u001b[0m\u001b[0mlime_tabular\u001b[0m\u001b[0;34m\u001b[0m\u001b[0;34m\u001b[0m\u001b[0m\n\u001b[1;32m      6\u001b[0m \u001b[0;32mimport\u001b[0m \u001b[0mnumpy\u001b[0m \u001b[0;32mas\u001b[0m \u001b[0mnp\u001b[0m\u001b[0;34m\u001b[0m\u001b[0;34m\u001b[0m\u001b[0m\n",
            "\u001b[0;31mModuleNotFoundError\u001b[0m: No module named 'lime'",
            "",
            "\u001b[0;31m---------------------------------------------------------------------------\u001b[0;32m\nNOTE: If your import is failing due to a missing package, you can\nmanually install dependencies using either !pip or !apt.\n\nTo view examples of installing some common dependencies, click the\n\"Open Examples\" button below.\n\u001b[0;31m---------------------------------------------------------------------------\u001b[0m\n"
          ],
          "errorDetails": {
            "actions": [
              {
                "action": "open_url",
                "actionText": "Open Examples",
                "url": "/notebooks/snippets/importing_libraries.ipynb"
              }
            ]
          }
        }
      ],
      "source": [
        "# LIME Global Model Analysis (averaging multiple local explanations)\n",
        "# Used global analysis to understand overall model behavior, not just Jane Dow's instance\n",
        "!pip install lime\n",
        "\n",
        "import lime\n",
        "import lime.lime_tabular\n",
        "import numpy as np\n",
        "import collections\n",
        "\n",
        "# Use preprocessed (encoded) data for LIME\n",
        "# X_train_enc and feature_names are already defined in previous cells\n",
        "\n",
        "lime_explainer = lime.lime_tabular.LimeTabularExplainer(\n",
        "    training_data=np.array(X_train_enc),   # encoded training data\n",
        "    feature_names=feature_names,           # encoded feature names\n",
        "    class_names=[\"<=50K\", \">50K\"],         # class labels\n",
        "    mode=\"classification\",\n",
        "    discretize_continuous=True\n",
        ")\n",
        "\n",
        "# Safe prediction wrapper for LIME (expects encoded input)\n",
        "def safe_predict_proba(x):\n",
        "    return model_adult.named_steps[\"clf\"].predict_proba(x)\n",
        "\n",
        "# Sample a few test cases to create a \"global\" view\n",
        "n_samples = 20\n",
        "sample_idx = np.random.choice(X_test.index, n_samples, replace=False)\n",
        "\n",
        "feature_importance = collections.Counter()\n",
        "\n",
        "for idx in sample_idx:\n",
        "    row = X_test.loc[[idx]]  # keep DataFrame format. Used ChatGPT5 at 3:00pm on 9/21/25 to ensure row is DataFrame for LIME\n",
        "    row_enc = model_adult.named_steps[\"pre\"].transform(row)  # encode the row\n",
        "    exp = lime_explainer.explain_instance(\n",
        "        data_row=row_enc[0],  # encoded data\n",
        "        predict_fn=safe_predict_proba,\n",
        "        num_features=10\n",
        "    )\n",
        "    for feature, weight in exp.as_list():\n",
        "        feature_importance[feature] += abs(weight) # Used ChatGPT5 at 3:10pm on 9/21/25 to know to use absolute value to aggregate the importance\n",
        "\n",
        "# Show top 10 global important features according to LIME\n",
        "global_lime = feature_importance.most_common(10)\n",
        "print(\"Global LIME feature importance (approximate):\")\n",
        "for feature, weight in global_lime:\n",
        "    print(f\"{feature}: {weight:.3f}\")\n"
      ]
    },
    {
      "cell_type": "markdown",
      "id": "c3da5848",
      "metadata": {
        "id": "c3da5848"
      },
      "source": [
        "# **Global LIME Interpretation**\n",
        "\n",
        "LIME shows that the model relies most on **capital gain**, **hours worked per week**, and **education** to decide income eligibility. These make sense because they relate to financial capacity.\n",
        "\n",
        "Important to note that features like **marital status** and **native country** also show up as important, BUT, since these are not directly tied to financial ability, their influence suggests the possibility of  **unfair bias** in the model’s decision-making.\n",
        "\n"
      ]
    },
    {
      "cell_type": "markdown",
      "id": "3888169a",
      "metadata": {
        "id": "3888169a"
      },
      "source": [
        "## **Local LIME Model Analysis**"
      ]
    },
    {
      "cell_type": "code",
      "execution_count": null,
      "id": "67ff674f",
      "metadata": {
        "id": "67ff674f"
      },
      "outputs": [],
      "source": [
        "# Local LIME Model Analysis (Jane Dow)\n",
        "\n",
        "import lime\n",
        "import lime.lime_tabular\n",
        "import numpy as np\n",
        "\n",
        "# Create LIME explainer using preprocessed training data\n",
        "X_train_enc = model_adult.named_steps[\"pre\"].transform(X_train)\n",
        "feature_names = model_adult.named_steps[\"pre\"].get_feature_names_out()\n",
        "\n",
        "lime_explainer = lime.lime_tabular.LimeTabularExplainer( # Used ChatGPT5 at 4:53pm on 9/21/25 to suggest using tabular data with OneHot encoding for LIME\n",
        "    training_data=np.array(X_train_enc),\n",
        "    feature_names=feature_names,\n",
        "    class_names=[\"<=50K\", \">50K\"],\n",
        "    mode=\"classification\",\n",
        "    discretize_continuous=True # Used ChatGPT5 at 5:00pm on 9/21/25 to suggest this feature for better interpretability\n",
        ")\n",
        "\n",
        "# Encode Jane’s row using the preprocessor\n",
        "jane_df = pd.DataFrame([jane])[X.columns]\n",
        "jane_enc = model_adult.named_steps[\"pre\"].transform(jane_df)\n",
        "\n",
        "# Define a use predict_proba function that works with LIME\n",
        "def safe_predict_proba(X):\n",
        "    return model_adult.named_steps[\"clf\"].predict_proba(X)\n",
        "\n",
        "# Used ChatGPT5 at 5:05pm on 9/21/25 to suggest defining safe_predict_proba function for LIME compatibility\n",
        "\n",
        "# Explain Jane’s instance\n",
        "lime_exp = lime_explainer.explain_instance(\n",
        "    data_row=jane_enc[0],\n",
        "    predict_fn=safe_predict_proba,\n",
        "    num_features=10\n",
        ")\n",
        "\n",
        "# Show explanation wiht table and plots\n",
        "lime_exp.show_in_notebook(show_table=True)\n",
        "lime_exp.as_pyplot_figure()\n"
      ]
    },
    {
      "cell_type": "markdown",
      "id": "3079c525",
      "metadata": {
        "id": "3079c525"
      },
      "source": [
        "# **Local LIME Interpretation**\n",
        "LIME confirms that Jane Dow was predicted as ≤50K with 91% probability, mainly because of two things:\n",
        "\n",
        "**Capital gain = 0:** The biggest factor against her. The model assumes that not having investment income is a strong sign of lower earnings, which isn’t a fair assumption for everyone; not having investments doesn’t mean someone with a full-time executive job can’t handle credit responsibly.\n",
        "\n",
        "**Country dummy features:** A bunch of “native-country” variables also show up as negative, even though Jane is from the United States. This means the model is still using country-related features in strange ways that don’t really apply to her, which makes the decision look unreliable.\n",
        "\n",
        "LIME shows that Jane’s denial is not solely being driven by her financial situation (education, hours worked, or occupation), but rather from demographic categories. This raises fairness concerns, because these features don’t reflect her true ability to repay a loan."
      ]
    },
    {
      "cell_type": "markdown",
      "id": "3e82eafe",
      "metadata": {
        "id": "3e82eafe"
      },
      "source": [
        "# **Prosecution Argument: Why Jane Dow’s Denial Seems Unfair**\n",
        "\n",
        "To check if the model’s decision to deny Jane Dow’s loan was fair, we used two explainability tools: **SHAP** and **LIME**. Both showed that the model focused on the wrong features.\n",
        "\n",
        "### **SHAP Results**\n",
        "\n",
        "* Jane was penalized for being **“Never-married”**, **Female**, and not having **capital gains**.\n",
        "* Even though she has a **Bachelor’s degree**, works fulltime in an **executive job**, those positives didn’t outweigh the negatives.\n",
        "* This means the model focused on factors that don’t directly reflect someone’s ability to pay back a loan.\n",
        "\n",
        "###  **LIME Results**\n",
        "\n",
        "  * **Negative factors**: unmarried status, no capital gain, and certain demographic features.\n",
        "  * **Positive factors**: higher education and executive role.\n",
        "* The negatives carried more weight, which led to denial.\n",
        "\n",
        "###  **Explanation of unfairness**\n",
        "\n",
        "A fair credit model should focus on things like **income, job stability, and hours worked**, not personal or social factors like marital status or whether someone has extra investment income. Using these signals could unfairly hurt women, single people, or people from lower-wealth backgrounds.\n",
        "\n",
        "###  **Conclusion**\n",
        "\n",
        "Both SHAP and LIME show that Jane’s denial was **influenced by features that aren’t fair for judging creditworthiness.** This suggests her loan was denied for the wrong reasons, raising concerns about **bias** and **fairness** in the model."
      ]
    },
    {
      "cell_type": "markdown",
      "id": "f5zjOjt2Rfeq",
      "metadata": {
        "id": "f5zjOjt2Rfeq"
      },
      "source": [
        "## 🩺 Case 2: Tumor Misclassification – Breast Cancer Dataset\n",
        "#### 🔍 Scenario\n",
        "Patient X received a benign classification from an AI tumor diagnostic tool and was not referred for a biopsy. Months later, the tumor was diagnosed as malignant. The model’s output is now under scrutiny.\n",
        "\n",
        "#### 🟥 Prosecution\n",
        "Use explanation tools to evaluate how the model arrived at this decision. Consider whether any key medical indicators might have been overlooked or minimized.\n",
        "\n",
        "#### 🟦 Defense\n",
        "Defend the decision with reference to the model’s logic and learned feature importance. Consider how this decision aligns with the broader data trends."
      ]
    },
    {
      "cell_type": "code",
      "execution_count": null,
      "id": "cb573d7e",
      "metadata": {
        "colab": {
          "base_uri": "https://localhost:8080/"
        },
        "id": "cb573d7e",
        "outputId": "30a92ac2-f73f-4c3c-f359-dd24ee4e568f"
      },
      "outputs": [
        {
          "name": "stdout",
          "output_type": "stream",
          "text": [
            "              precision    recall  f1-score   support\n",
            "\n",
            "           0       0.98      0.93      0.95        43\n",
            "           1       0.96      0.99      0.97        71\n",
            "\n",
            "    accuracy                           0.96       114\n",
            "   macro avg       0.97      0.96      0.96       114\n",
            "weighted avg       0.97      0.96      0.96       114\n",
            "\n"
          ]
        }
      ],
      "source": [
        "# 🧬 Case 2: Tumor Misclassification (Breast Cancer Dataset)\n",
        "from sklearn.datasets import load_breast_cancer\n",
        "from sklearn.ensemble import RandomForestClassifier\n",
        "from sklearn.model_selection import train_test_split\n",
        "from sklearn.metrics import classification_report\n",
        "import pandas as pd\n",
        "\n",
        "# Load dataset\n",
        "data = load_breast_cancer()\n",
        "df_bc = pd.DataFrame(data.data, columns=data.feature_names)\n",
        "df_bc['target'] = data.target  # 0 = malignant, 1 = benign\n",
        "\n",
        "# Train/test split\n",
        "X = df_bc.drop(\"target\", axis=1)\n",
        "y = df_bc[\"target\"]\n",
        "X_train, X_test, y_train, y_test = train_test_split(X, y, test_size=0.2, random_state=42)\n",
        "\n",
        "# Train model\n",
        "model_bc = RandomForestClassifier(random_state=42)\n",
        "model_bc.fit(X_train, y_train)\n",
        "print(classification_report(y_test, model_bc.predict(X_test)))"
      ]
    },
    {
      "cell_type": "code",
      "execution_count": null,
      "id": "d7cd05f4",
      "metadata": {
        "colab": {
          "base_uri": "https://localhost:8080/"
        },
        "id": "d7cd05f4",
        "outputId": "3d395024-8cd1-4366-e8f7-0a374b3fa630"
      },
      "outputs": [
        {
          "name": "stdout",
          "output_type": "stream",
          "text": [
            "Prediction for Patient X: Benign → No Biopsy\n"
          ]
        }
      ],
      "source": [
        "# 🧬 Focus Instance (Tumor Misclassification - Patient X)\n",
        "focus_instance_bc = pd.DataFrame([{\n",
        "    \"mean radius\": 13.80,\n",
        "    \"mean texture\": 15.79,\n",
        "    \"mean perimeter\": 90.43,\n",
        "    \"mean area\": 584.1,\n",
        "    \"mean smoothness\": 0.1007,\n",
        "    \"mean compactness\": 0.1280,\n",
        "    \"mean concavity\": 0.07789,\n",
        "    \"mean concave points\": 0.05069,\n",
        "    \"mean symmetry\": 0.1662,\n",
        "    \"mean fractal dimension\": 0.06566,\n",
        "    \"radius error\": 0.4101,\n",
        "    \"texture error\": 1.074,\n",
        "    \"perimeter error\": 2.635,\n",
        "    \"area error\": 40.14,\n",
        "    \"smoothness error\": 0.00541,\n",
        "    \"compactness error\": 0.02204,\n",
        "    \"concavity error\": 0.01664,\n",
        "    \"concave points error\": 0.01185,\n",
        "    \"symmetry error\": 0.02095,\n",
        "    \"fractal dimension error\": 0.004902,\n",
        "    \"worst radius\": 16.57,\n",
        "    \"worst texture\": 20.86,\n",
        "    \"worst perimeter\": 110.3,\n",
        "    \"worst area\": 812.4,\n",
        "    \"worst smoothness\": 0.1411,\n",
        "    \"worst compactness\": 0.3542,\n",
        "    \"worst concavity\": 0.2779,\n",
        "    \"worst concave points\": 0.1383,\n",
        "    \"worst symmetry\": 0.2589,\n",
        "    \"worst fractal dimension\": 0.1030\n",
        "}])\n",
        "\n",
        "# Run prediction\n",
        "pred = model_bc.predict(focus_instance_bc)\n",
        "print(\"Prediction for Patient X:\", \"Benign → No Biopsy\" if pred[0] == 1 else \"Malignant → Action Needed\")\n"
      ]
    },
    {
      "cell_type": "markdown",
      "id": "7yiVRowlRzxz",
      "metadata": {
        "id": "7yiVRowlRzxz"
      },
      "source": [
        "## ⚖️ Case 3: Recidivism Risk – COMPAS Dataset\n",
        "#### 🔍 Scenario\n",
        "Malik Johnson, a 27-year-old with one prior felony, was flagged as low risk by an AI risk assessment tool and granted parole. Some community stakeholders have questioned whether this was an appropriate classification.\n",
        "\n",
        "#### 🟥 Prosecution\n",
        "Examine whether the model may have underestimated risk factors. Use explanation techniques to uncover potential oversights or inconsistencies.\n",
        "\n",
        "#### 🟦 Defense\n",
        "Argue that the decision was reasonable based on the model's criteria. Use explanation tools to show which features were most influential and whether the classification aligns with data-driven patterns."
      ]
    },
    {
      "cell_type": "code",
      "execution_count": null,
      "id": "40c14573",
      "metadata": {
        "colab": {
          "base_uri": "https://localhost:8080/"
        },
        "id": "40c14573",
        "outputId": "f81c8826-dfae-4d4e-ec43-a6df8920600a"
      },
      "outputs": [
        {
          "name": "stdout",
          "output_type": "stream",
          "text": [
            "              precision    recall  f1-score   support\n",
            "\n",
            "           0       0.67      0.68      0.68       823\n",
            "           1       0.57      0.56      0.57       620\n",
            "\n",
            "    accuracy                           0.63      1443\n",
            "   macro avg       0.62      0.62      0.62      1443\n",
            "weighted avg       0.63      0.63      0.63      1443\n",
            "\n"
          ]
        }
      ],
      "source": [
        "# ⚖️ Case 3: Recidivism Prediction (COMPAS Dataset)\n",
        "\n",
        "import pandas as pd\n",
        "import numpy as np\n",
        "from sklearn.model_selection import train_test_split\n",
        "from sklearn.ensemble import RandomForestClassifier\n",
        "from sklearn.metrics import classification_report\n",
        "\n",
        "# Load dataset\n",
        "url = \"https://raw.githubusercontent.com/propublica/compas-analysis/master/compas-scores-two-years.csv\"\n",
        "df_compas = pd.read_csv(url)\n",
        "\n",
        "# Filter relevant columns and preprocess\n",
        "features = ['age', 'sex', 'race', 'priors_count', 'juv_fel_count', 'juv_misd_count', 'juv_other_count', 'c_charge_degree']\n",
        "df = df_compas[features + ['two_year_recid']].dropna()\n",
        "df = df[df['c_charge_degree'].isin(['F', 'M'])]  # Filter valid degrees\n",
        "\n",
        "# Encode categoricals\n",
        "df = df.copy()\n",
        "df['sex'] = df['sex'].astype('category').cat.codes\n",
        "df['race'] = df['race'].astype('category').cat.codes\n",
        "df['c_charge_degree'] = df['c_charge_degree'].astype('category').cat.codes\n",
        "\n",
        "X = df[features]\n",
        "y = df['two_year_recid']\n",
        "\n",
        "X_train, X_test, y_train, y_test = train_test_split(X, y, test_size=0.2, random_state=42)\n",
        "\n",
        "model_compas = RandomForestClassifier(random_state=42)\n",
        "model_compas.fit(X_train, y_train)\n",
        "print(classification_report(y_test, model_compas.predict(X_test)))\n"
      ]
    },
    {
      "cell_type": "code",
      "execution_count": null,
      "id": "fc902cdf",
      "metadata": {
        "colab": {
          "base_uri": "https://localhost:8080/"
        },
        "id": "fc902cdf",
        "outputId": "6a1da0dc-4ea4-47b3-e228-e20ebe341600"
      },
      "outputs": [
        {
          "name": "stdout",
          "output_type": "stream",
          "text": [
            "Prediction for Malik Johnson (Recidivism): [0]\n"
          ]
        }
      ],
      "source": [
        "# 🎯 Focus Instance: Recidivism Risk Case (Malik Johnson)\n",
        "focus_instance_compas = pd.DataFrame([{\n",
        "    \"age\": 27,\n",
        "    \"sex\": 1,  # Male\n",
        "    \"race\": 1,  # African-American\n",
        "    \"priors_count\": 1,\n",
        "    \"juv_fel_count\": 0,\n",
        "    \"juv_misd_count\": 0,\n",
        "    \"juv_other_count\": 0,\n",
        "    \"c_charge_degree\": 1  # Felony\n",
        "}])\n",
        "\n",
        "pred = model_compas.predict(focus_instance_compas)\n",
        "print(\"Prediction for Malik Johnson (Recidivism):\", pred)\n"
      ]
    }
  ],
  "metadata": {
    "colab": {
      "provenance": [],
      "gpuType": "T4"
    },
    "kernelspec": {
      "display_name": "Python 3",
      "name": "python3"
    },
    "language_info": {
      "codemirror_mode": {
        "name": "ipython",
        "version": 3
      },
      "file_extension": ".py",
      "mimetype": "text/x-python",
      "name": "python",
      "nbconvert_exporter": "python",
      "pygments_lexer": "ipython3",
      "version": "3.10.0"
    },
    "accelerator": "GPU"
  },
  "nbformat": 4,
  "nbformat_minor": 5
}